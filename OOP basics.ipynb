{
 "cells": [
  {
   "cell_type": "markdown",
   "metadata": {},
   "source": [
    "## Objets as Classes"
   ]
  },
  {
   "cell_type": "code",
   "execution_count": 1,
   "metadata": {
    "collapsed": true
   },
   "outputs": [],
   "source": [
    "class Dog:\n",
    "    \n",
    "    # Class attributes\n",
    "    species = 'mammal'\n",
    "    \n",
    "    # Initializer / Instance Attributes\n",
    "    def __init__(self,name,age):\n",
    "        self.name = name\n",
    "        self.age = age"
   ]
  },
  {
   "cell_type": "code",
   "execution_count": 2,
   "metadata": {
    "collapsed": true
   },
   "outputs": [],
   "source": [
    "# Instantiate the Dog object\n",
    "philo = Dog('Philo',5)\n",
    "mickey = Dog('Mickey',6)"
   ]
  },
  {
   "cell_type": "code",
   "execution_count": 8,
   "metadata": {},
   "outputs": [
    {
     "name": "stdout",
     "output_type": "stream",
     "text": [
      "Philo 5\n"
     ]
    }
   ],
   "source": [
    "# Access instance attributes\n",
    "print(philo.name, philo.age)"
   ]
  },
  {
   "cell_type": "code",
   "execution_count": 11,
   "metadata": {},
   "outputs": [
    {
     "name": "stdout",
     "output_type": "stream",
     "text": [
      "Mickey is a mammal!\n"
     ]
    }
   ],
   "source": [
    "if mickey.species == 'mammal':\n",
    "    print('{0} is a {1}!'.format(mickey.name,mickey.species))"
   ]
  },
  {
   "cell_type": "code",
   "execution_count": 22,
   "metadata": {
    "collapsed": true
   },
   "outputs": [],
   "source": [
    "# Adding instance methods\n",
    "\n",
    "class Dog:\n",
    "\n",
    "    # Class Attribute\n",
    "    species = 'mammal'\n",
    "\n",
    "    # Initializer / Instance Attributes\n",
    "    def __init__(self, name, age):\n",
    "        self.name = name\n",
    "        self.age = age\n",
    "        \n",
    "    # Instance methods\n",
    "    def description(self):\n",
    "        return '{} is {} years old.'.format(self.name,self.age)\n",
    "        \n",
    "    def speak(self,sound):\n",
    "        return '{} says: \"{}\"'.format(self.name,sound)"
   ]
  },
  {
   "cell_type": "code",
   "execution_count": 23,
   "metadata": {},
   "outputs": [
    {
     "name": "stdout",
     "output_type": "stream",
     "text": [
      "Mickey is 6 years old.\n",
      "Mickey says: \"J'aime les maths\"\n"
     ]
    }
   ],
   "source": [
    "mickey = Dog('Mickey',6)\n",
    "\n",
    "print(mickey.description())\n",
    "print(mickey.speak(\"J'aime les maths\"))"
   ]
  },
  {
   "cell_type": "code",
   "execution_count": 24,
   "metadata": {
    "collapsed": true
   },
   "outputs": [],
   "source": [
    "class Email:\n",
    "    \n",
    "    def __init__(self):\n",
    "        self.is_sent = False\n",
    "    \n",
    "    def send_email(self):\n",
    "        self.is_sent = True"
   ]
  },
  {
   "cell_type": "code",
   "execution_count": 25,
   "metadata": {
    "collapsed": true
   },
   "outputs": [],
   "source": [
    "my_email = Email()"
   ]
  },
  {
   "cell_type": "code",
   "execution_count": 26,
   "metadata": {},
   "outputs": [
    {
     "name": "stdout",
     "output_type": "stream",
     "text": [
      "False\n",
      "True\n"
     ]
    }
   ],
   "source": [
    "print(my_email.is_sent)\n",
    "my_email.send_email()\n",
    "print(my_email.is_sent)"
   ]
  },
  {
   "cell_type": "markdown",
   "metadata": {},
   "source": [
    "### Object inheritance"
   ]
  },
  {
   "cell_type": "code",
   "execution_count": 30,
   "metadata": {
    "collapsed": true
   },
   "outputs": [],
   "source": [
    "# Child class (inherits from Dog class)\n",
    "\n",
    "class RusselTerrier(Dog):\n",
    "    \n",
    "    def run(self,speed):\n",
    "        return '{} runs {}.'.format(self.name, speed)\n",
    "    \n",
    "class Bulldog(Dog):\n",
    "    \n",
    "    def run(self,speed):\n",
    "        return \"{} runs {}.\".format(self.name, speed)"
   ]
  },
  {
   "cell_type": "code",
   "execution_count": 31,
   "metadata": {},
   "outputs": [
    {
     "name": "stdout",
     "output_type": "stream",
     "text": [
      "Jim is 12 years old.\n"
     ]
    }
   ],
   "source": [
    "jim = Bulldog(\"Jim\",12)\n",
    "print(jim.description())"
   ]
  },
  {
   "cell_type": "code",
   "execution_count": 32,
   "metadata": {},
   "outputs": [
    {
     "name": "stdout",
     "output_type": "stream",
     "text": [
      "Jim runs slowly.\n"
     ]
    }
   ],
   "source": [
    "print(jim.run('slowly'))"
   ]
  },
  {
   "cell_type": "code",
   "execution_count": 38,
   "metadata": {},
   "outputs": [
    {
     "data": {
      "text/plain": [
       "[True, True, False]"
      ]
     },
     "execution_count": 38,
     "metadata": {},
     "output_type": "execute_result"
    }
   ],
   "source": [
    "[isinstance(jim,x) for x in {Dog, Bulldog, RusselTerrier}]"
   ]
  },
  {
   "cell_type": "code",
   "execution_count": 39,
   "metadata": {},
   "outputs": [
    {
     "data": {
      "text/plain": [
       "False"
      ]
     },
     "execution_count": 39,
     "metadata": {},
     "output_type": "execute_result"
    }
   ],
   "source": [
    "pati = Dog(\"Pati\",7)\n",
    "isinstance(pati,Bulldog)"
   ]
  },
  {
   "cell_type": "code",
   "execution_count": null,
   "metadata": {
    "collapsed": true
   },
   "outputs": [],
   "source": []
  }
 ],
 "metadata": {
  "kernelspec": {
   "display_name": "Python 3",
   "language": "python",
   "name": "python3"
  },
  "language_info": {
   "codemirror_mode": {
    "name": "ipython",
    "version": 3
   },
   "file_extension": ".py",
   "mimetype": "text/x-python",
   "name": "python",
   "nbconvert_exporter": "python",
   "pygments_lexer": "ipython3",
   "version": "3.6.8"
  }
 },
 "nbformat": 4,
 "nbformat_minor": 2
}
